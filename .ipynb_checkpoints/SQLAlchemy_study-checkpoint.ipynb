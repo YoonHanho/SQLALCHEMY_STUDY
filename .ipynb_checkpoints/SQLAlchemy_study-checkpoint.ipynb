{
 "cells": [
  {
   "cell_type": "markdown",
   "metadata": {},
   "source": [
    "## SQL Alchemy \n",
    "#### 공식사이트 : http://www.sqlalchemy.org/\n",
    "#### 참조사이트(추천) : http://docs.sqlalchemy.org/en/latest/orm/tutorial.html#version-check\n",
    "#### 플라스크 확장판 : http://flask-sqlalchemy.pocoo.org/2.3/"
   ]
  },
  {
   "cell_type": "markdown",
   "metadata": {},
   "source": [
    "### SQL Alchemy란? \n",
    "* SQLAlchemy는 파이썬 기반 데이터베이스 관리를 지원하는 프레임워크\n",
    "* 간결한 문법으로 쿼리 가능\n",
    "* SQLite뿐만 아니라 MY SQL 등 다양한 DB를 표준 파이썬 코드로 지원"
   ]
  },
  {
   "cell_type": "markdown",
   "metadata": {},
   "source": [
    "### 설치"
   ]
  },
  {
   "cell_type": "code",
   "execution_count": 1,
   "metadata": {},
   "outputs": [],
   "source": [
    "!pip install sqlalchemy"
   ]
  },
  {
   "cell_type": "code",
   "execution_count": 2,
   "metadata": {},
   "outputs": [
    {
     "data": {
      "text/plain": [
       "'1.1.5'"
      ]
     },
     "execution_count": 2,
     "metadata": {},
     "output_type": "execute_result"
    }
   ],
   "source": [
    "# 버젼 체크\n",
    "import sqlalchemy\n",
    "sqlalchemy.__version__"
   ]
  },
  {
   "cell_type": "markdown",
   "metadata": {},
   "source": [
    "---\n",
    "### 초기 접속 환경 세팅(매우 중요~!!! )\n",
    "---"
   ]
  },
  {
   "cell_type": "code",
   "execution_count": 1,
   "metadata": {},
   "outputs": [],
   "source": [
    "# 엔진 생성\n",
    "from sqlalchemy import create_engine\n",
    "engine = create_engine('sqlite:///:memory:', echo=True)   # 인메모리\n",
    "# engine = create_engine('sqlite:///C:\\path', echo=True)  # 윈도우 하드 공간\n",
    "# engine = create_engine('sqlite:///path', echo=True)     # 리눅스 하드 공간"
   ]
  },
  {
   "cell_type": "code",
   "execution_count": 2,
   "metadata": {},
   "outputs": [],
   "source": [
    "# SQLAlchemy - base class 선언\n",
    "from sqlalchemy.ext.declarative import declarative_base\n",
    "Base = declarative_base()"
   ]
  },
  {
   "cell_type": "code",
   "execution_count": 3,
   "metadata": {},
   "outputs": [],
   "source": [
    "# 사용자 클래스 생성\n",
    "from sqlalchemy import Column, Integer, String, Integer, Float, Numeric, Time, DateTime\n",
    "\n",
    "class User(Base):                                  # -> 클래스명\n",
    "    __tablename__ = 'users'                        # -> 실제 생성되는 테이블명\n",
    "    id = Column(Integer, primary_key=True)         # -> 테이블 컬럼 정의\n",
    "    name = Column(String)\n",
    "    fullname = Column(String)\n",
    "    password = Column(String)\n",
    "    \n",
    "    def __repr__(self):\n",
    "        return \"<User(name='%s', fullname='%s', password='%s')>\" % (\n",
    "                self.name, self.fullname, self.password)"
   ]
  },
  {
   "cell_type": "code",
   "execution_count": 8,
   "metadata": {},
   "outputs": [
    {
     "data": {
      "text/plain": [
       "Table('users', MetaData(bind=None), Column('id', Integer(), table=<users>, primary_key=True, nullable=False), Column('name', String(), table=<users>), Column('fullname', String(), table=<users>), Column('password', String(), table=<users>), schema=None)"
      ]
     },
     "execution_count": 8,
     "metadata": {},
     "output_type": "execute_result"
    }
   ],
   "source": [
    "# 테이블 속성 조사\n",
    "User.__table__"
   ]
  },
  {
   "cell_type": "code",
   "execution_count": 4,
   "metadata": {},
   "outputs": [
    {
     "name": "stdout",
     "output_type": "stream",
     "text": [
      "2018-06-08 14:17:09,626 INFO sqlalchemy.engine.base.Engine SELECT CAST('test plain returns' AS VARCHAR(60)) AS anon_1\n",
      "2018-06-08 14:17:09,639 INFO sqlalchemy.engine.base.Engine ()\n",
      "2018-06-08 14:17:09,642 INFO sqlalchemy.engine.base.Engine SELECT CAST('test unicode returns' AS VARCHAR(60)) AS anon_1\n",
      "2018-06-08 14:17:09,644 INFO sqlalchemy.engine.base.Engine ()\n",
      "2018-06-08 14:17:09,646 INFO sqlalchemy.engine.base.Engine PRAGMA table_info(\"users\")\n",
      "2018-06-08 14:17:09,647 INFO sqlalchemy.engine.base.Engine ()\n",
      "2018-06-08 14:17:09,649 INFO sqlalchemy.engine.base.Engine \n",
      "CREATE TABLE users (\n",
      "\tid INTEGER NOT NULL, \n",
      "\tname VARCHAR, \n",
      "\tfullname VARCHAR, \n",
      "\tpassword VARCHAR, \n",
      "\tPRIMARY KEY (id)\n",
      ")\n",
      "\n",
      "\n",
      "2018-06-08 14:17:09,650 INFO sqlalchemy.engine.base.Engine ()\n",
      "2018-06-08 14:17:09,652 INFO sqlalchemy.engine.base.Engine COMMIT\n"
     ]
    }
   ],
   "source": [
    "# 테이블을 물리적으로 생성한다. (기존 테이블 생성되어 있다면 테이블에 접속)\n",
    "Base.metadata.create_all(engine)"
   ]
  },
  {
   "cell_type": "code",
   "execution_count": 5,
   "metadata": {},
   "outputs": [],
   "source": [
    "# 세션 만들기 \n",
    "from sqlalchemy.orm import sessionmaker\n",
    "Session = sessionmaker(bind=engine)\n",
    "session = Session()"
   ]
  },
  {
   "cell_type": "markdown",
   "metadata": {},
   "source": [
    "--- \n",
    "### 데이터 생성 및 쿼리 예시\n",
    "---"
   ]
  },
  {
   "cell_type": "code",
   "execution_count": 6,
   "metadata": {},
   "outputs": [
    {
     "data": {
      "text/plain": [
       "'None'"
      ]
     },
     "execution_count": 6,
     "metadata": {},
     "output_type": "execute_result"
    }
   ],
   "source": [
    "# 값 생성하기(create an instance)\n",
    "ed_user = User(name='ed', fullname='Ed Jones', password='12345')\n",
    "ed_user.name\n",
    "ed_user.password\n",
    "str(ed_user.id)"
   ]
  },
  {
   "cell_type": "code",
   "execution_count": 7,
   "metadata": {},
   "outputs": [
    {
     "name": "stdout",
     "output_type": "stream",
     "text": [
      "2018-06-08 14:17:18,900 INFO sqlalchemy.engine.base.Engine BEGIN (implicit)\n",
      "2018-06-08 14:17:18,903 INFO sqlalchemy.engine.base.Engine INSERT INTO users (name, fullname, password) VALUES (?, ?, ?)\n",
      "2018-06-08 14:17:18,905 INFO sqlalchemy.engine.base.Engine ('ed', 'Ed Jones', '12345')\n",
      "2018-06-08 14:17:18,907 INFO sqlalchemy.engine.base.Engine SELECT users.id AS users_id, users.name AS users_name, users.fullname AS users_fullname, users.password AS users_password \n",
      "FROM users \n",
      "WHERE users.name = ?\n",
      " LIMIT ? OFFSET ?\n",
      "2018-06-08 14:17:18,909 INFO sqlalchemy.engine.base.Engine ('ed', 1, 0)\n"
     ]
    },
    {
     "data": {
      "text/plain": [
       "<User(name='ed', fullname='Ed Jones', password='12345')>"
      ]
     },
     "execution_count": 7,
     "metadata": {},
     "output_type": "execute_result"
    }
   ],
   "source": [
    "# 값 추가/업데이트 하기... 1건\n",
    "session.add(ed_user)\n",
    "\n",
    "# name으로 쿼리해보자~! \n",
    "our_user = session.query(User).filter_by(name='ed').first()  # first() -> 최초 1건만\n",
    "our_user"
   ]
  },
  {
   "cell_type": "code",
   "execution_count": 8,
   "metadata": {},
   "outputs": [],
   "source": [
    "# 값 추가/업데이트 하기... 여러 건\n",
    "session.add_all([\n",
    "     User(name='wendy', fullname='Wendy Williams', password='foobar'),\n",
    "     User(name='mary', fullname='Mary Contrary', password='xxg527'),\n",
    "     User(name='fred', fullname='Fred Flinstone', password='blah')])"
   ]
  },
  {
   "cell_type": "code",
   "execution_count": 9,
   "metadata": {},
   "outputs": [
    {
     "name": "stdout",
     "output_type": "stream",
     "text": [
      "2018-06-08 14:17:22,438 INFO sqlalchemy.engine.base.Engine INSERT INTO users (name, fullname, password) VALUES (?, ?, ?)\n",
      "2018-06-08 14:17:22,440 INFO sqlalchemy.engine.base.Engine ('wendy', 'Wendy Williams', 'foobar')\n",
      "2018-06-08 14:17:22,441 INFO sqlalchemy.engine.base.Engine INSERT INTO users (name, fullname, password) VALUES (?, ?, ?)\n",
      "2018-06-08 14:17:22,442 INFO sqlalchemy.engine.base.Engine ('mary', 'Mary Contrary', 'xxg527')\n",
      "2018-06-08 14:17:22,443 INFO sqlalchemy.engine.base.Engine INSERT INTO users (name, fullname, password) VALUES (?, ?, ?)\n",
      "2018-06-08 14:17:22,445 INFO sqlalchemy.engine.base.Engine ('fred', 'Fred Flinstone', 'blah')\n",
      "2018-06-08 14:17:22,446 INFO sqlalchemy.engine.base.Engine COMMIT\n"
     ]
    }
   ],
   "source": [
    "# 세션 실행 : 값 데이터베이스에 업로드\n",
    "session.commit()"
   ]
  },
  {
   "cell_type": "markdown",
   "metadata": {},
   "source": [
    "---\n",
    "### 쿼리 예시 모음\n",
    "---"
   ]
  },
  {
   "cell_type": "code",
   "execution_count": 15,
   "metadata": {},
   "outputs": [
    {
     "name": "stdout",
     "output_type": "stream",
     "text": [
      "2018-06-08 14:20:28,564 INFO sqlalchemy.engine.base.Engine SELECT count(*) AS count_1 \n",
      "FROM (SELECT users.id AS users_id, users.name AS users_name, users.fullname AS users_fullname, users.password AS users_password \n",
      "FROM users) AS anon_1\n",
      "2018-06-08 14:20:28,566 INFO sqlalchemy.engine.base.Engine ()\n"
     ]
    },
    {
     "data": {
      "text/plain": [
       "4"
      ]
     },
     "execution_count": 15,
     "metadata": {},
     "output_type": "execute_result"
    }
   ],
   "source": [
    "### 건수 체크\n",
    "session.query(User).count()"
   ]
  },
  {
   "cell_type": "code",
   "execution_count": 10,
   "metadata": {},
   "outputs": [
    {
     "name": "stdout",
     "output_type": "stream",
     "text": [
      "2018-06-08 14:17:45,814 INFO sqlalchemy.engine.base.Engine BEGIN (implicit)\n",
      "2018-06-08 14:17:45,816 INFO sqlalchemy.engine.base.Engine SELECT users.id AS users_id, users.name AS users_name, users.fullname AS users_fullname, users.password AS users_password \n",
      "FROM users\n",
      "2018-06-08 14:17:45,817 INFO sqlalchemy.engine.base.Engine ()\n"
     ]
    },
    {
     "data": {
      "text/plain": [
       "[<User(name='ed', fullname='Ed Jones', password='12345')>,\n",
       " <User(name='wendy', fullname='Wendy Williams', password='foobar')>,\n",
       " <User(name='mary', fullname='Mary Contrary', password='xxg527')>,\n",
       " <User(name='fred', fullname='Fred Flinstone', password='blah')>]"
      ]
     },
     "execution_count": 10,
     "metadata": {},
     "output_type": "execute_result"
    }
   ],
   "source": [
    "### 간단 쿼리\n",
    "session.query(User).all()"
   ]
  },
  {
   "cell_type": "code",
   "execution_count": 12,
   "metadata": {},
   "outputs": [
    {
     "name": "stdout",
     "output_type": "stream",
     "text": [
      "2018-06-08 14:19:09,343 INFO sqlalchemy.engine.base.Engine SELECT users.id AS users_id, users.name AS users_name, users.fullname AS users_fullname, users.password AS users_password \n",
      "FROM users\n",
      " LIMIT ? OFFSET ?\n",
      "2018-06-08 14:19:09,345 INFO sqlalchemy.engine.base.Engine (1, 0)\n"
     ]
    },
    {
     "data": {
      "text/plain": [
       "<User(name='ed', fullname='Ed Jones', password='12345')>"
      ]
     },
     "execution_count": 12,
     "metadata": {},
     "output_type": "execute_result"
    }
   ],
   "source": [
    "# 첫번째 쿼리 결과만\n",
    "session.query(User).first()"
   ]
  },
  {
   "cell_type": "code",
   "execution_count": 24,
   "metadata": {},
   "outputs": [
    {
     "data": {
      "text/plain": [
       "<User(name='wendy', fullname='Wendy Williams', password='foobar')>"
      ]
     },
     "execution_count": 24,
     "metadata": {},
     "output_type": "execute_result"
    }
   ],
   "source": [
    "# 두번째 관측치\n",
    "session.query(User).get(2)"
   ]
  },
  {
   "cell_type": "code",
   "execution_count": 14,
   "metadata": {},
   "outputs": [
    {
     "name": "stdout",
     "output_type": "stream",
     "text": [
      "2018-06-08 14:19:52,112 INFO sqlalchemy.engine.base.Engine SELECT users.id AS users_id, users.name AS users_name, users.fullname AS users_fullname, users.password AS users_password \n",
      "FROM users ORDER BY users.fullname\n",
      "2018-06-08 14:19:52,114 INFO sqlalchemy.engine.base.Engine ()\n"
     ]
    },
    {
     "data": {
      "text/plain": [
       "[<User(name='ed', fullname='Ed Jones', password='12345')>,\n",
       " <User(name='fred', fullname='Fred Flinstone', password='blah')>,\n",
       " <User(name='mary', fullname='Mary Contrary', password='xxg527')>,\n",
       " <User(name='wendy', fullname='Wendy Williams', password='foobar')>]"
      ]
     },
     "execution_count": 14,
     "metadata": {},
     "output_type": "execute_result"
    }
   ],
   "source": [
    "# order_by로 정렬하기\n",
    "session.query(User).order_by(User.fullname).all()"
   ]
  },
  {
   "cell_type": "code",
   "execution_count": 15,
   "metadata": {},
   "outputs": [
    {
     "name": "stdout",
     "output_type": "stream",
     "text": [
      "2018-06-04 15:22:14,945 INFO sqlalchemy.engine.base.Engine BEGIN (implicit)\n",
      "2018-06-04 15:22:14,947 INFO sqlalchemy.engine.base.Engine SELECT users.id AS users_id, users.name AS users_name, users.fullname AS users_fullname, users.password AS users_password \n",
      "FROM users ORDER BY users.id\n",
      "2018-06-04 15:22:14,953 INFO sqlalchemy.engine.base.Engine ()\n",
      "ed Ed Jones\n",
      "wendy Wendy Williams\n",
      "mary Mary Contrary\n",
      "fred Fred Flinstone\n"
     ]
    }
   ],
   "source": [
    "# order_by로 정렬하기\n",
    "for i in session.query(User).order_by(User.id):\n",
    "    print(i.name, i.fullname)"
   ]
  },
  {
   "cell_type": "code",
   "execution_count": 16,
   "metadata": {},
   "outputs": [
    {
     "name": "stdout",
     "output_type": "stream",
     "text": [
      "2018-06-08 14:20:55,539 INFO sqlalchemy.engine.base.Engine SELECT users.id AS users_id, users.name AS users_name, users.fullname AS users_fullname, users.password AS users_password \n",
      "FROM users \n",
      "WHERE users.name LIKE ?\n",
      "2018-06-08 14:20:55,541 INFO sqlalchemy.engine.base.Engine ('%ed',)\n"
     ]
    },
    {
     "data": {
      "text/plain": [
       "[<User(name='ed', fullname='Ed Jones', password='12345')>,\n",
       " <User(name='fred', fullname='Fred Flinstone', password='blah')>]"
      ]
     },
     "execution_count": 16,
     "metadata": {},
     "output_type": "execute_result"
    }
   ],
   "source": [
    "### 필터\n",
    "session.query(User).filter(User.name.like('%ed')).all()"
   ]
  },
  {
   "cell_type": "code",
   "execution_count": 16,
   "metadata": {},
   "outputs": [
    {
     "name": "stdout",
     "output_type": "stream",
     "text": [
      "2018-06-04 15:22:50,926 INFO sqlalchemy.engine.base.Engine SELECT users.name AS users_name, users.fullname AS users_fullname \n",
      "FROM users\n",
      "2018-06-04 15:22:50,928 INFO sqlalchemy.engine.base.Engine ()\n",
      "ed Ed Jones\n",
      "wendy Wendy Williams\n",
      "mary Mary Contrary\n",
      "fred Fred Flinstone\n"
     ]
    }
   ],
   "source": [
    "# for문 - 클래스 컬럼으로 쿼리하기\n",
    "for name, fullname in session.query(User.name, User.fullname):\n",
    "    print(name, fullname)"
   ]
  },
  {
   "cell_type": "code",
   "execution_count": 17,
   "metadata": {},
   "outputs": [
    {
     "name": "stdout",
     "output_type": "stream",
     "text": [
      "2018-06-04 15:23:09,711 INFO sqlalchemy.engine.base.Engine SELECT users.id AS users_id, users.name AS users_name, users.fullname AS users_fullname, users.password AS users_password \n",
      "FROM users\n",
      "2018-06-04 15:23:09,712 INFO sqlalchemy.engine.base.Engine ()\n",
      "<User(name='ed', fullname='Ed Jones', password='12345')> ed\n",
      "<User(name='wendy', fullname='Wendy Williams', password='foobar')> wendy\n",
      "<User(name='mary', fullname='Mary Contrary', password='xxg527')> mary\n",
      "<User(name='fred', fullname='Fred Flinstone', password='blah')> fred\n"
     ]
    }
   ],
   "source": [
    "# for문 - all()함수로 모든 데이터 쿼리하기\n",
    "for row in session.query(User, User.name).all():\n",
    "    print(row.User, row.name)"
   ]
  },
  {
   "cell_type": "code",
   "execution_count": 18,
   "metadata": {},
   "outputs": [
    {
     "name": "stdout",
     "output_type": "stream",
     "text": [
      "2018-06-04 15:23:18,581 INFO sqlalchemy.engine.base.Engine SELECT users.name AS name_label \n",
      "FROM users\n",
      "2018-06-04 15:23:18,583 INFO sqlalchemy.engine.base.Engine ()\n",
      "ed\n",
      "wendy\n",
      "mary\n",
      "fred\n"
     ]
    }
   ],
   "source": [
    "for row in session.query(User.name.label('name_label')).all():\n",
    "    print(row.name_label)"
   ]
  },
  {
   "cell_type": "code",
   "execution_count": 19,
   "metadata": {},
   "outputs": [
    {
     "name": "stdout",
     "output_type": "stream",
     "text": [
      "2018-06-04 15:23:27,417 INFO sqlalchemy.engine.base.Engine SELECT users.name AS name_label \n",
      "FROM users\n",
      "2018-06-04 15:23:27,422 INFO sqlalchemy.engine.base.Engine ()\n"
     ]
    },
    {
     "data": {
      "text/plain": [
       "['ed', 'wendy', 'mary', 'fred']"
      ]
     },
     "execution_count": 19,
     "metadata": {},
     "output_type": "execute_result"
    }
   ],
   "source": [
    "# for문 - 리스트로 한번에 한줄로 내리기 \n",
    "[ row.name_label for row in session.query(User.name.label('name_label')).all() ]"
   ]
  },
  {
   "cell_type": "code",
   "execution_count": 21,
   "metadata": {},
   "outputs": [
    {
     "name": "stdout",
     "output_type": "stream",
     "text": [
      "2018-06-04 15:24:04,617 INFO sqlalchemy.engine.base.Engine SELECT users.id AS users_id, users.name AS users_name, users.fullname AS users_fullname, users.password AS users_password \n",
      "FROM users ORDER BY users.id\n",
      " LIMIT ? OFFSET ?\n",
      "2018-06-04 15:24:04,619 INFO sqlalchemy.engine.base.Engine (2, 1)\n",
      "<User(name='wendy', fullname='Wendy Williams', password='foobar')>\n",
      "<User(name='mary', fullname='Mary Contrary', password='xxg527')>\n"
     ]
    }
   ],
   "source": [
    "# for문 - 슬라이싱\n",
    "for u in session.query(User).order_by(User.id)[1:3]:\n",
    "    print(u)"
   ]
  },
  {
   "cell_type": "markdown",
   "metadata": {},
   "source": [
    "---\n",
    "### 쿼리 필터링 심도 깊게\n",
    "---"
   ]
  },
  {
   "cell_type": "markdown",
   "metadata": {},
   "source": [
    "---\n",
    "### 우선 filter와 filter_by의 차이를 정확하게 알고있자~!\n",
    "* 출처 : https://goo.gl/6B7CmK\n",
    "\n",
    "filter_by is used for simple queries on the column names using regular kwargs, like\n",
    "\n",
    "**db.users.filter_by(name='Joe')**\n",
    "\n",
    "The same can be accomplished with filter, not using kwargs, but instead using the '==' equality operator, \n",
    "which has been overloaded on the db.users.name object:\n",
    "\n",
    "**db.users.filter(db.users.name=='Joe')**\n",
    "\n",
    "You can also write **more powerful** queries using filter, such as expressions like:\n",
    "\n",
    "**db.users.filter(or_(db.users.name=='Ryan', db.users.country=='England'))**\n",
    "\n",
    "---"
   ]
  },
  {
   "cell_type": "code",
   "execution_count": 22,
   "metadata": {},
   "outputs": [
    {
     "name": "stdout",
     "output_type": "stream",
     "text": [
      "2018-06-04 15:24:53,583 INFO sqlalchemy.engine.base.Engine SELECT users.name AS users_name \n",
      "FROM users \n",
      "WHERE users.fullname = ?\n",
      "2018-06-04 15:24:53,585 INFO sqlalchemy.engine.base.Engine ('Ed Jones',)\n",
      "ed\n"
     ]
    }
   ],
   "source": [
    "# 콤마(name,) -> 스트링으로 넘어온다!!!\n",
    "for name, in session.query(User.name).filter_by(fullname='Ed Jones'):\n",
    "    print(name)"
   ]
  },
  {
   "cell_type": "code",
   "execution_count": 23,
   "metadata": {},
   "outputs": [
    {
     "name": "stdout",
     "output_type": "stream",
     "text": [
      "2018-06-04 15:25:02,859 INFO sqlalchemy.engine.base.Engine SELECT users.name AS users_name \n",
      "FROM users \n",
      "WHERE users.fullname = ?\n",
      "2018-06-04 15:25:02,862 INFO sqlalchemy.engine.base.Engine ('Ed Jones',)\n",
      "('ed',)\n"
     ]
    }
   ],
   "source": [
    "# 콤마(name,)없는 경우\n",
    "for name in session.query(User.name).filter_by(fullname='Ed Jones'):  \n",
    "    print(name)"
   ]
  },
  {
   "cell_type": "code",
   "execution_count": 24,
   "metadata": {},
   "outputs": [
    {
     "name": "stdout",
     "output_type": "stream",
     "text": [
      "2018-06-04 15:25:29,915 INFO sqlalchemy.engine.base.Engine SELECT users.name AS users_name \n",
      "FROM users \n",
      "WHERE users.name IN (?, ?, ?)\n",
      "2018-06-04 15:25:29,917 INFO sqlalchemy.engine.base.Engine ('ed', 'wendy', 'jack')\n",
      "ed\n",
      "wendy\n"
     ]
    }
   ],
   "source": [
    "# in_ 함수로 여러 값 조건 걸기\n",
    "for name, in session.query(User.name).filter(User.name.in_(['ed', 'wendy','jack'])):\n",
    "    print(name)"
   ]
  },
  {
   "cell_type": "code",
   "execution_count": 25,
   "metadata": {},
   "outputs": [
    {
     "name": "stdout",
     "output_type": "stream",
     "text": [
      "2018-06-04 15:25:37,872 INFO sqlalchemy.engine.base.Engine SELECT users.name AS users_name \n",
      "FROM users \n",
      "WHERE users.name = ? AND users.fullname = ?\n",
      "2018-06-04 15:25:37,874 INFO sqlalchemy.engine.base.Engine ('ed', 'Ed Jones')\n",
      "ed\n"
     ]
    }
   ],
   "source": [
    "# 두 개 조건 걸기\n",
    "for name, in session.query(User.name).filter(User.name=='ed', User.fullname=='Ed Jones'):\n",
    "    print(name)"
   ]
  },
  {
   "cell_type": "code",
   "execution_count": 26,
   "metadata": {},
   "outputs": [
    {
     "name": "stdout",
     "output_type": "stream",
     "text": [
      "2018-06-04 15:26:07,926 INFO sqlalchemy.engine.base.Engine SELECT users.name AS users_name \n",
      "FROM users \n",
      "WHERE users.name = ? OR users.name = ?\n",
      "2018-06-04 15:26:07,929 INFO sqlalchemy.engine.base.Engine ('ed', 'hanhoman')\n",
      "ed\n"
     ]
    }
   ],
   "source": [
    "# and, or 조건으로 데이터 필터링\n",
    "from sqlalchemy import and_, or_\n",
    "for name, in session.query(User.name).filter(or_(User.name=='ed', User.name=='hanhoman')):\n",
    "    print(name)"
   ]
  },
  {
   "cell_type": "code",
   "execution_count": 27,
   "metadata": {},
   "outputs": [
    {
     "name": "stdout",
     "output_type": "stream",
     "text": [
      "2018-06-04 15:26:41,645 INFO sqlalchemy.engine.base.Engine SELECT users.id AS users_id, users.name AS users_name, users.fullname AS users_fullname, users.password AS users_password \n",
      "FROM users \n",
      "WHERE users.name LIKE ? ORDER BY users.id\n",
      "2018-06-04 15:26:41,646 INFO sqlalchemy.engine.base.Engine ('%ed',)\n"
     ]
    },
    {
     "data": {
      "text/plain": [
       "[<User(name='ed', fullname='Ed Jones', password='12345')>,\n",
       " <User(name='fred', fullname='Fred Flinstone', password='blah')>]"
      ]
     },
     "execution_count": 27,
     "metadata": {},
     "output_type": "execute_result"
    }
   ],
   "source": [
    "# like함수  \n",
    "query = session.query(User).filter(User.name.like('%ed')).order_by(User.id)\n",
    "query.all()   "
   ]
  },
  {
   "cell_type": "code",
   "execution_count": 29,
   "metadata": {},
   "outputs": [
    {
     "name": "stdout",
     "output_type": "stream",
     "text": [
      "2018-06-04 15:27:02,382 INFO sqlalchemy.engine.base.Engine SELECT users.id AS users_id, users.name AS users_name, users.fullname AS users_fullname, users.password AS users_password \n",
      "FROM users \n",
      "WHERE users.name LIKE ? ORDER BY users.id\n",
      "2018-06-04 15:27:02,384 INFO sqlalchemy.engine.base.Engine ('%ed',)\n"
     ]
    },
    {
     "ename": "MultipleResultsFound",
     "evalue": "Multiple rows were found for one()",
     "output_type": "error",
     "traceback": [
      "\u001b[1;31m---------------------------------------------------------------------------\u001b[0m",
      "\u001b[1;31mMultipleResultsFound\u001b[0m                      Traceback (most recent call last)",
      "\u001b[1;32mC:\\ProgramData\\Anaconda3\\lib\\site-packages\\sqlalchemy\\orm\\query.py\u001b[0m in \u001b[0;36mone\u001b[1;34m(self)\u001b[0m\n\u001b[0;32m   2748\u001b[0m         \u001b[1;32mtry\u001b[0m\u001b[1;33m:\u001b[0m\u001b[1;33m\u001b[0m\u001b[0m\n\u001b[1;32m-> 2749\u001b[1;33m             \u001b[0mret\u001b[0m \u001b[1;33m=\u001b[0m \u001b[0mself\u001b[0m\u001b[1;33m.\u001b[0m\u001b[0mone_or_none\u001b[0m\u001b[1;33m(\u001b[0m\u001b[1;33m)\u001b[0m\u001b[1;33m\u001b[0m\u001b[0m\n\u001b[0m\u001b[0;32m   2750\u001b[0m         \u001b[1;32mexcept\u001b[0m \u001b[0morm_exc\u001b[0m\u001b[1;33m.\u001b[0m\u001b[0mMultipleResultsFound\u001b[0m\u001b[1;33m:\u001b[0m\u001b[1;33m\u001b[0m\u001b[0m\n",
      "\u001b[1;32mC:\\ProgramData\\Anaconda3\\lib\\site-packages\\sqlalchemy\\orm\\query.py\u001b[0m in \u001b[0;36mone_or_none\u001b[1;34m(self)\u001b[0m\n\u001b[0;32m   2727\u001b[0m             raise orm_exc.MultipleResultsFound(\n\u001b[1;32m-> 2728\u001b[1;33m                 \"Multiple rows were found for one_or_none()\")\n\u001b[0m\u001b[0;32m   2729\u001b[0m \u001b[1;33m\u001b[0m\u001b[0m\n",
      "\u001b[1;31mMultipleResultsFound\u001b[0m: Multiple rows were found for one_or_none()",
      "\nDuring handling of the above exception, another exception occurred:\n",
      "\u001b[1;31mMultipleResultsFound\u001b[0m                      Traceback (most recent call last)",
      "\u001b[1;32m<ipython-input-29-4b5f11dee6c7>\u001b[0m in \u001b[0;36m<module>\u001b[1;34m()\u001b[0m\n\u001b[1;32m----> 1\u001b[1;33m \u001b[0mquery\u001b[0m\u001b[1;33m.\u001b[0m\u001b[0mone\u001b[0m\u001b[1;33m(\u001b[0m\u001b[1;33m)\u001b[0m   \u001b[1;31m# 중복 데이터가 있다면 첫번째만, 없다면 메시지로 ...\u001b[0m\u001b[1;33m\u001b[0m\u001b[0m\n\u001b[0m",
      "\u001b[1;32mC:\\ProgramData\\Anaconda3\\lib\\site-packages\\sqlalchemy\\orm\\query.py\u001b[0m in \u001b[0;36mone\u001b[1;34m(self)\u001b[0m\n\u001b[0;32m   2750\u001b[0m         \u001b[1;32mexcept\u001b[0m \u001b[0morm_exc\u001b[0m\u001b[1;33m.\u001b[0m\u001b[0mMultipleResultsFound\u001b[0m\u001b[1;33m:\u001b[0m\u001b[1;33m\u001b[0m\u001b[0m\n\u001b[0;32m   2751\u001b[0m             raise orm_exc.MultipleResultsFound(\n\u001b[1;32m-> 2752\u001b[1;33m                 \"Multiple rows were found for one()\")\n\u001b[0m\u001b[0;32m   2753\u001b[0m         \u001b[1;32melse\u001b[0m\u001b[1;33m:\u001b[0m\u001b[1;33m\u001b[0m\u001b[0m\n\u001b[0;32m   2754\u001b[0m             \u001b[1;32mif\u001b[0m \u001b[0mret\u001b[0m \u001b[1;32mis\u001b[0m \u001b[1;32mNone\u001b[0m\u001b[1;33m:\u001b[0m\u001b[1;33m\u001b[0m\u001b[0m\n",
      "\u001b[1;31mMultipleResultsFound\u001b[0m: Multiple rows were found for one()"
     ]
    }
   ],
   "source": [
    "# 중복 데이터가 있다면 첫번째만 쿼리\n",
    "# 없다면 에러 메시지 ...\n",
    "query.one()   "
   ]
  },
  {
   "cell_type": "markdown",
   "metadata": {},
   "source": [
    "---\n",
    "### 삭제\n",
    "--- "
   ]
  },
  {
   "cell_type": "code",
   "execution_count": 28,
   "metadata": {},
   "outputs": [
    {
     "name": "stdout",
     "output_type": "stream",
     "text": [
      "2018-06-08 14:31:08,054 INFO sqlalchemy.engine.base.Engine SELECT users.id AS users_id, users.name AS users_name, users.fullname AS users_fullname, users.password AS users_password \n",
      "FROM users \n",
      "WHERE users.name = ?\n",
      " LIMIT ? OFFSET ?\n",
      "2018-06-08 14:31:08,056 INFO sqlalchemy.engine.base.Engine ('mary', 1, 0)\n",
      "2018-06-08 14:31:08,064 INFO sqlalchemy.engine.base.Engine DELETE FROM users WHERE users.id = ?\n",
      "2018-06-08 14:31:08,066 INFO sqlalchemy.engine.base.Engine (3,)\n",
      "2018-06-08 14:31:08,068 INFO sqlalchemy.engine.base.Engine SELECT users.id AS users_id, users.name AS users_name, users.fullname AS users_fullname, users.password AS users_password \n",
      "FROM users\n",
      "2018-06-08 14:31:08,070 INFO sqlalchemy.engine.base.Engine ()\n"
     ]
    },
    {
     "data": {
      "text/plain": [
       "[<User(name='ed', fullname='Ed Jones', password='12345')>,\n",
       " <User(name='wendy', fullname='Wendy Williams', password='foobar')>,\n",
       " <User(name='fred', fullname='Fred Flinstone', password='blah')>]"
      ]
     },
     "execution_count": 28,
     "metadata": {},
     "output_type": "execute_result"
    }
   ],
   "source": [
    "mary = session.query(User).filter_by(name='mary').first()\n",
    "session.delete(mary)\n",
    "\n",
    "session.query(User).all()"
   ]
  },
  {
   "cell_type": "markdown",
   "metadata": {},
   "source": [
    "---\n",
    "### SQL도 날릴 수 있다\n",
    "---"
   ]
  },
  {
   "cell_type": "code",
   "execution_count": 30,
   "metadata": {},
   "outputs": [
    {
     "name": "stdout",
     "output_type": "stream",
     "text": [
      "2018-06-04 15:27:54,525 INFO sqlalchemy.engine.base.Engine SELECT * FROM users where name=?\n",
      "2018-06-04 15:27:54,527 INFO sqlalchemy.engine.base.Engine ('ed',)\n"
     ]
    },
    {
     "data": {
      "text/plain": [
       "[<User(name='ed', fullname='Ed Jones', password='12345')>]"
      ]
     },
     "execution_count": 30,
     "metadata": {},
     "output_type": "execute_result"
    }
   ],
   "source": [
    "from sqlalchemy import text\n",
    "\n",
    "session.query(User).from_statement(\n",
    "                        text(\"SELECT * FROM users where name=:name\")).\\\n",
    "                        params(name='ed').all()"
   ]
  },
  {
   "cell_type": "markdown",
   "metadata": {},
   "source": [
    "---\n",
    "### 다른 테이블과의 관계\n",
    "---"
   ]
  },
  {
   "cell_type": "code",
   "execution_count": 32,
   "metadata": {},
   "outputs": [
    {
     "name": "stdout",
     "output_type": "stream",
     "text": [
      "2018-06-04 16:37:44,244 INFO sqlalchemy.engine.base.Engine PRAGMA table_info(\"users\")\n",
      "2018-06-04 16:37:44,255 INFO sqlalchemy.engine.base.Engine ()\n",
      "2018-06-04 16:37:44,257 INFO sqlalchemy.engine.base.Engine PRAGMA table_info(\"addresses\")\n",
      "2018-06-04 16:37:44,258 INFO sqlalchemy.engine.base.Engine ()\n",
      "2018-06-04 16:37:44,259 INFO sqlalchemy.engine.base.Engine \n",
      "CREATE TABLE addresses (\n",
      "\tid INTEGER NOT NULL, \n",
      "\temail_address VARCHAR NOT NULL, \n",
      "\tuser_id INTEGER, \n",
      "\tPRIMARY KEY (id), \n",
      "\tFOREIGN KEY(user_id) REFERENCES users (id)\n",
      ")\n",
      "\n",
      "\n",
      "2018-06-04 16:37:44,260 INFO sqlalchemy.engine.base.Engine ()\n",
      "2018-06-04 16:37:44,262 INFO sqlalchemy.engine.base.Engine COMMIT\n"
     ]
    }
   ],
   "source": [
    "from sqlalchemy import ForeignKey\n",
    "from sqlalchemy.orm import relationship\n",
    "\n",
    "# 주소 클래스 하나 더 만들자\n",
    "class Address(Base):\n",
    "    __tablename__ = 'addresses'\n",
    "    id = Column(Integer, primary_key=True)\n",
    "    email_address = Column(String, nullable=False)\n",
    "    user_id = Column(Integer, ForeignKey('users.id'))   # ForiegnKey에서  테이블 관계 지정\n",
    "    \n",
    "    user = relationship(\"User\", back_populates=\"addresses\")  # 클래스 관계 지정\n",
    "    \n",
    "    def __repr__(self):\n",
    "        return \"<Address(email_address='%s')>\" % self.email_address\n",
    "\n",
    "User.addresses = relationship(\n",
    "   \"Address\", order_by=Address.id, back_populates=\"user\")\n",
    "\n",
    "Base.metadata.create_all(engine)    "
   ]
  },
  {
   "cell_type": "code",
   "execution_count": 33,
   "metadata": {},
   "outputs": [
    {
     "name": "stdout",
     "output_type": "stream",
     "text": [
      "<Address(email_address='j25@yahoo.com')>\n",
      "<User(name='jack', fullname='Jack Bean', password='gjffdd')>\n",
      "2018-06-04 16:38:41,512 INFO sqlalchemy.engine.base.Engine INSERT INTO users (name, fullname, password) VALUES (?, ?, ?)\n",
      "2018-06-04 16:38:41,515 INFO sqlalchemy.engine.base.Engine ('jack', 'Jack Bean', 'gjffdd')\n",
      "2018-06-04 16:38:41,517 INFO sqlalchemy.engine.base.Engine INSERT INTO addresses (email_address, user_id) VALUES (?, ?)\n",
      "2018-06-04 16:38:41,519 INFO sqlalchemy.engine.base.Engine ('jack@google.com', 5)\n",
      "2018-06-04 16:38:41,522 INFO sqlalchemy.engine.base.Engine INSERT INTO addresses (email_address, user_id) VALUES (?, ?)\n",
      "2018-06-04 16:38:41,524 INFO sqlalchemy.engine.base.Engine ('j25@yahoo.com', 5)\n",
      "2018-06-04 16:38:41,526 INFO sqlalchemy.engine.base.Engine COMMIT\n"
     ]
    }
   ],
   "source": [
    "''' 여러 테이블로 놀아보자 '''\n",
    "jack = User(name='jack', fullname='Jack Bean', password='gjffdd')\n",
    "\n",
    "# 이메일 주소가 두 개인 샘플 만들기\n",
    "jack.addresses = [\n",
    "                Address(email_address='jack@google.com'),\n",
    "                Address(email_address='j25@yahoo.com')]\n",
    "\n",
    "print(jack.addresses[1])      # 두번째 이메일\n",
    "print(jack.addresses[1].user) # 두번째 이메일 사용자\n",
    "\n",
    "session.add(jack)\n",
    "session.commit()  # jack은 User와 Address클래스에 모두 반영된다."
   ]
  },
  {
   "cell_type": "code",
   "execution_count": 35,
   "metadata": {},
   "outputs": [
    {
     "name": "stdout",
     "output_type": "stream",
     "text": [
      "2018-06-04 16:41:01,528 INFO sqlalchemy.engine.base.Engine SELECT users.id AS users_id, users.name AS users_name, users.fullname AS users_fullname, users.password AS users_password \n",
      "FROM users \n",
      "WHERE users.name = ?\n",
      "2018-06-04 16:41:01,532 INFO sqlalchemy.engine.base.Engine ('jack',)\n"
     ]
    },
    {
     "data": {
      "text/plain": [
       "<User(name='jack', fullname='Jack Bean', password='gjffdd')>"
      ]
     },
     "execution_count": 35,
     "metadata": {},
     "output_type": "execute_result"
    }
   ],
   "source": [
    "jack = session.query(User).filter_by(name='jack').one() # 이메일 2건 중 하나만 출력\n",
    "jack"
   ]
  },
  {
   "cell_type": "code",
   "execution_count": 36,
   "metadata": {},
   "outputs": [
    {
     "data": {
      "text/plain": [
       "[<Address(email_address='jack@google.com')>,\n",
       " <Address(email_address='j25@yahoo.com')>]"
      ]
     },
     "execution_count": 36,
     "metadata": {},
     "output_type": "execute_result"
    }
   ],
   "source": [
    "jack.addresses"
   ]
  },
  {
   "cell_type": "markdown",
   "metadata": {},
   "source": [
    "### 조인"
   ]
  },
  {
   "cell_type": "code",
   "execution_count": 37,
   "metadata": {},
   "outputs": [
    {
     "name": "stdout",
     "output_type": "stream",
     "text": [
      "2018-06-04 16:42:37,542 INFO sqlalchemy.engine.base.Engine SELECT users.id AS users_id, users.name AS users_name, users.fullname AS users_fullname, users.password AS users_password, addresses.id AS addresses_id, addresses.email_address AS addresses_email_address, addresses.user_id AS addresses_user_id \n",
      "FROM users, addresses \n",
      "WHERE users.id = addresses.user_id AND addresses.email_address = ?\n",
      "2018-06-04 16:42:37,544 INFO sqlalchemy.engine.base.Engine ('jack@google.com',)\n",
      "<User(name='jack', fullname='Jack Bean', password='gjffdd')>\n",
      "<Address(email_address='jack@google.com')>\n"
     ]
    }
   ],
   "source": [
    "for u, a in session.query(User, Address).\\\n",
    "            filter(User.id == Address.user_id).\\\n",
    "            filter(Address.email_address=='jack@google.com').\\\n",
    "            all():\n",
    "    print(u)\n",
    "    print(a)"
   ]
  },
  {
   "cell_type": "code",
   "execution_count": 38,
   "metadata": {},
   "outputs": [
    {
     "name": "stdout",
     "output_type": "stream",
     "text": [
      "2018-06-04 16:42:42,442 INFO sqlalchemy.engine.base.Engine SELECT users.id AS users_id, users.name AS users_name, users.fullname AS users_fullname, users.password AS users_password \n",
      "FROM users JOIN addresses ON users.id = addresses.user_id \n",
      "WHERE addresses.email_address = ?\n",
      "2018-06-04 16:42:42,451 INFO sqlalchemy.engine.base.Engine ('jack@google.com',)\n"
     ]
    },
    {
     "data": {
      "text/plain": [
       "[<User(name='jack', fullname='Jack Bean', password='gjffdd')>]"
      ]
     },
     "execution_count": 38,
     "metadata": {},
     "output_type": "execute_result"
    }
   ],
   "source": [
    "session.query(User).join(Address).\\\n",
    "    filter(Address.email_address == 'jack@google.com').\\\n",
    "    all()"
   ]
  },
  {
   "cell_type": "code",
   "execution_count": null,
   "metadata": {},
   "outputs": [],
   "source": [
    "'''\n",
    "query.join(Address, User.id==Address.user_id)    # explicit condition\n",
    "query.join(User.addresses)                       # specify relationship from left to right\n",
    "query.join(Address, User.addresses)              # same, with explicit target\n",
    "query.join('addresses')                          # same, using a string\n",
    "query.outerjoin(User.addresses)   # LEFT OUTER JOIN\n",
    "'''"
   ]
  },
  {
   "cell_type": "markdown",
   "metadata": {},
   "source": [
    "### 약칭(alias) 쓰기"
   ]
  },
  {
   "cell_type": "code",
   "execution_count": 39,
   "metadata": {},
   "outputs": [
    {
     "name": "stdout",
     "output_type": "stream",
     "text": [
      "2018-06-04 16:44:00,303 INFO sqlalchemy.engine.base.Engine SELECT users.name AS users_name, addresses_1.email_address AS addresses_1_email_address, addresses_2.email_address AS addresses_2_email_address \n",
      "FROM users JOIN addresses AS addresses_1 ON users.id = addresses_1.user_id JOIN addresses AS addresses_2 ON users.id = addresses_2.user_id \n",
      "WHERE addresses_1.email_address = ? AND addresses_2.email_address = ?\n",
      "2018-06-04 16:44:00,305 INFO sqlalchemy.engine.base.Engine ('jack@google.com', 'j25@yahoo.com')\n",
      "jack jack@google.com j25@yahoo.com\n"
     ]
    }
   ],
   "source": [
    "from sqlalchemy.orm import aliased\n",
    "\n",
    "adalias1 = aliased(Address)\n",
    "adalias2 = aliased(Address)\n",
    "\n",
    "for username, email1, email2 in \\\n",
    "    session.query(User.name, adalias1.email_address, adalias2.email_address).\\\n",
    "    join(adalias1, User.addresses).\\\n",
    "    join(adalias2, User.addresses).\\\n",
    "    filter(adalias1.email_address=='jack@google.com').\\\n",
    "    filter(adalias2.email_address=='j25@yahoo.com'):\n",
    "    print(username, email1, email2)"
   ]
  },
  {
   "cell_type": "markdown",
   "metadata": {},
   "source": [
    "### 서브 쿼리"
   ]
  },
  {
   "cell_type": "code",
   "execution_count": null,
   "metadata": {},
   "outputs": [],
   "source": [
    "'''\n",
    "SELECT users.*, adr_count.address_count FROM users LEFT OUTER JOIN\n",
    "    (SELECT user_id, count(*) AS address_count\n",
    "        FROM addresses GROUP BY user_id) AS adr_count\n",
    "    ON users.id=adr_count.user_id\n",
    "'''"
   ]
  },
  {
   "cell_type": "code",
   "execution_count": 40,
   "metadata": {},
   "outputs": [
    {
     "name": "stdout",
     "output_type": "stream",
     "text": [
      "2018-06-04 16:44:37,821 INFO sqlalchemy.engine.base.Engine SELECT users.id AS users_id, users.name AS users_name, users.fullname AS users_fullname, users.password AS users_password, anon_1.address_count AS anon_1_address_count \n",
      "FROM users LEFT OUTER JOIN (SELECT addresses.user_id AS user_id, count(?) AS address_count \n",
      "FROM addresses GROUP BY addresses.user_id) AS anon_1 ON users.id = anon_1.user_id ORDER BY users.id\n",
      "2018-06-04 16:44:37,823 INFO sqlalchemy.engine.base.Engine ('*',)\n",
      "<User(name='ed', fullname='Ed Jones', password='12345')> None\n",
      "<User(name='wendy', fullname='Wendy Williams', password='foobar')> None\n",
      "<User(name='mary', fullname='Mary Contrary', password='xxg527')> None\n",
      "<User(name='fred', fullname='Fred Flinstone', password='blah')> None\n",
      "<User(name='jack', fullname='Jack Bean', password='gjffdd')> 2\n"
     ]
    }
   ],
   "source": [
    "from sqlalchemy.sql import func\n",
    "stmt = session.query(Address.user_id, func.count('*').\\\n",
    "                     label('address_count')).\\\n",
    "                     group_by(Address.user_id).subquery()\n",
    "                     \n",
    "for u, count in session.query(User, stmt.c.address_count).\\\n",
    "    outerjoin(stmt, User.id==stmt.c.user_id).order_by(User.id):\n",
    "        print(u, count)\n",
    "        \n",
    "### 상세 내역은 가이드 참조 ###"
   ]
  },
  {
   "cell_type": "markdown",
   "metadata": {},
   "source": [
    "--- \n",
    "### 여러 테이블에서 삭제\n",
    "---"
   ]
  },
  {
   "cell_type": "code",
   "execution_count": 41,
   "metadata": {},
   "outputs": [
    {
     "name": "stdout",
     "output_type": "stream",
     "text": [
      "2018-06-04 16:45:26,890 INFO sqlalchemy.engine.base.Engine UPDATE addresses SET user_id=? WHERE addresses.id = ?\n",
      "2018-06-04 16:45:26,901 INFO sqlalchemy.engine.base.Engine ((None, 1), (None, 2))\n",
      "2018-06-04 16:45:26,904 INFO sqlalchemy.engine.base.Engine DELETE FROM users WHERE users.id = ?\n",
      "2018-06-04 16:45:26,906 INFO sqlalchemy.engine.base.Engine (5,)\n",
      "2018-06-04 16:45:26,908 INFO sqlalchemy.engine.base.Engine SELECT count(*) AS count_1 \n",
      "FROM (SELECT users.id AS users_id, users.name AS users_name, users.fullname AS users_fullname, users.password AS users_password \n",
      "FROM users \n",
      "WHERE users.name = ?) AS anon_1\n",
      "2018-06-04 16:45:26,910 INFO sqlalchemy.engine.base.Engine ('jack',)\n"
     ]
    },
    {
     "data": {
      "text/plain": [
       "0"
      ]
     },
     "execution_count": 41,
     "metadata": {},
     "output_type": "execute_result"
    }
   ],
   "source": [
    "session.delete(jack)\n",
    "session.query(User).filter_by(name='jack').count()"
   ]
  },
  {
   "cell_type": "code",
   "execution_count": 42,
   "metadata": {},
   "outputs": [
    {
     "name": "stdout",
     "output_type": "stream",
     "text": [
      "2018-06-04 16:46:10,170 INFO sqlalchemy.engine.base.Engine SELECT count(*) AS count_1 \n",
      "FROM (SELECT addresses.id AS addresses_id, addresses.email_address AS addresses_email_address, addresses.user_id AS addresses_user_id \n",
      "FROM addresses \n",
      "WHERE addresses.email_address IN (?, ?)) AS anon_1\n",
      "2018-06-04 16:46:10,172 INFO sqlalchemy.engine.base.Engine ('jack@google.com', 'j25@yahoo.com')\n"
     ]
    },
    {
     "data": {
      "text/plain": [
       "2"
      ]
     },
     "execution_count": 42,
     "metadata": {},
     "output_type": "execute_result"
    }
   ],
   "source": [
    "# 예시에서 Address 오브젝트의 jack은 삭제되지 않음\n",
    "session.query(Address).filter(\n",
    "        Address.email_address.in_(['jack@google.com', 'j25@yahoo.com'])\n",
    "        ).count()"
   ]
  },
  {
   "cell_type": "code",
   "execution_count": 43,
   "metadata": {},
   "outputs": [
    {
     "name": "stdout",
     "output_type": "stream",
     "text": [
      "2018-06-04 16:46:37,023 INFO sqlalchemy.engine.base.Engine ROLLBACK\n"
     ]
    }
   ],
   "source": [
    "''' Configuring delete/delete-orphan Cascade '''\n",
    "session.close()            # 세션 닫으면 Rollback됨. 삭제된 jack이 그대로~! \n",
    "Base = declarative_base()  # 다시 선언\n",
    "\n",
    "class User(Base):\n",
    "    __tablename__ = 'users'\n",
    "    id = Column(Integer, primary_key=True)\n",
    "    name = Column(String)\n",
    "    fullname = Column(String)\n",
    "    password = Column(String)\n",
    "    addresses = relationship(\"Address\", back_populates='user',\n",
    "                    cascade=\"all, delete, delete-orphan\")      # cascade옵션 추가\n",
    "\n",
    "    def __repr__(self):\n",
    "       return \"<User(name='%s', fullname='%s', password='%s')>\" % (\n",
    "                               self.name, self.fullname, self.password)\n",
    "\n",
    "class Address(Base):\n",
    "    __tablename__ = 'addresses'\n",
    "    id = Column(Integer, primary_key=True)\n",
    "    email_address = Column(String, nullable=False)\n",
    "    user_id = Column(Integer, ForeignKey('users.id'))\n",
    "    user = relationship(\"User\", back_populates=\"addresses\")\n",
    "\n",
    "    def __repr__(self):\n",
    "        return \"<Address(email_address='%s')>\" % self.email_address"
   ]
  },
  {
   "cell_type": "code",
   "execution_count": 46,
   "metadata": {},
   "outputs": [
    {
     "name": "stdout",
     "output_type": "stream",
     "text": [
      "2018-06-04 16:47:31,567 INFO sqlalchemy.engine.base.Engine SELECT users.id AS users_id, users.name AS users_name, users.fullname AS users_fullname, users.password AS users_password \n",
      "FROM users \n",
      "WHERE users.id = ?\n",
      "2018-06-04 16:47:31,570 INFO sqlalchemy.engine.base.Engine (5,)\n"
     ]
    },
    {
     "data": {
      "text/plain": [
       "<User(name='jack', fullname='Jack Bean', password='gjffdd')>"
      ]
     },
     "execution_count": 46,
     "metadata": {},
     "output_type": "execute_result"
    }
   ],
   "source": [
    "# primary key로 데이터 읽기\n",
    "jack = session.query(User).get(5)\n",
    "jack"
   ]
  },
  {
   "cell_type": "code",
   "execution_count": 47,
   "metadata": {},
   "outputs": [
    {
     "name": "stdout",
     "output_type": "stream",
     "text": [
      "2018-06-04 16:47:49,671 INFO sqlalchemy.engine.base.Engine SELECT addresses.id AS addresses_id, addresses.email_address AS addresses_email_address, addresses.user_id AS addresses_user_id \n",
      "FROM addresses \n",
      "WHERE ? = addresses.user_id\n",
      "2018-06-04 16:47:49,672 INFO sqlalchemy.engine.base.Engine (5,)\n"
     ]
    },
    {
     "data": {
      "text/plain": [
       "[<Address(email_address='jack@google.com')>,\n",
       " <Address(email_address='j25@yahoo.com')>]"
      ]
     },
     "execution_count": 47,
     "metadata": {},
     "output_type": "execute_result"
    }
   ],
   "source": [
    "jack.addresses"
   ]
  },
  {
   "cell_type": "code",
   "execution_count": 48,
   "metadata": {},
   "outputs": [],
   "source": [
    "# 이메일 주소 2개 중 뒤에꺼 제거\n",
    "del jack.addresses[1]"
   ]
  },
  {
   "cell_type": "code",
   "execution_count": 49,
   "metadata": {},
   "outputs": [
    {
     "name": "stdout",
     "output_type": "stream",
     "text": [
      "2018-06-04 16:48:15,888 INFO sqlalchemy.engine.base.Engine DELETE FROM addresses WHERE addresses.id = ?\n",
      "2018-06-04 16:48:15,890 INFO sqlalchemy.engine.base.Engine (2,)\n",
      "2018-06-04 16:48:15,893 INFO sqlalchemy.engine.base.Engine SELECT count(*) AS count_1 \n",
      "FROM (SELECT addresses.id AS addresses_id, addresses.email_address AS addresses_email_address, addresses.user_id AS addresses_user_id \n",
      "FROM addresses \n",
      "WHERE addresses.email_address IN (?, ?)) AS anon_1\n",
      "2018-06-04 16:48:15,894 INFO sqlalchemy.engine.base.Engine ('jack@google.com', 'j25@yahoo.com')\n"
     ]
    },
    {
     "data": {
      "text/plain": [
       "1"
      ]
     },
     "execution_count": 49,
     "metadata": {},
     "output_type": "execute_result"
    }
   ],
   "source": [
    "# 몇개 있나 검증\n",
    "session.query(Address).filter(\n",
    "        Address.email_address.in_(['jack@google.com','j25@yahoo.com'])\n",
    "        ).count()"
   ]
  },
  {
   "cell_type": "code",
   "execution_count": 50,
   "metadata": {},
   "outputs": [
    {
     "name": "stdout",
     "output_type": "stream",
     "text": [
      "2018-06-04 16:48:32,292 INFO sqlalchemy.engine.base.Engine DELETE FROM addresses WHERE addresses.id = ?\n",
      "2018-06-04 16:48:32,293 INFO sqlalchemy.engine.base.Engine (1,)\n",
      "2018-06-04 16:48:32,295 INFO sqlalchemy.engine.base.Engine DELETE FROM users WHERE users.id = ?\n",
      "2018-06-04 16:48:32,297 INFO sqlalchemy.engine.base.Engine (5,)\n",
      "2018-06-04 16:48:32,299 INFO sqlalchemy.engine.base.Engine SELECT count(*) AS count_1 \n",
      "FROM (SELECT users.id AS users_id, users.name AS users_name, users.fullname AS users_fullname, users.password AS users_password \n",
      "FROM users \n",
      "WHERE users.name = ?) AS anon_1\n",
      "2018-06-04 16:48:32,300 INFO sqlalchemy.engine.base.Engine ('jack',)\n"
     ]
    },
    {
     "data": {
      "text/plain": [
       "0"
      ]
     },
     "execution_count": 50,
     "metadata": {},
     "output_type": "execute_result"
    }
   ],
   "source": [
    "# 삭제\n",
    "session.delete(jack)\n",
    "session.query(User).filter_by(name='jack').count()"
   ]
  },
  {
   "cell_type": "code",
   "execution_count": 53,
   "metadata": {},
   "outputs": [
    {
     "name": "stdout",
     "output_type": "stream",
     "text": [
      "2018-06-07 14:49:39,820 INFO sqlalchemy.engine.base.Engine SELECT count(*) AS count_1 \n",
      "FROM (SELECT addresses.id AS addresses_id, addresses.email_address AS addresses_email_address, addresses.user_id AS addresses_user_id \n",
      "FROM addresses \n",
      "WHERE addresses.email_address IN (?, ?)) AS anon_1\n",
      "2018-06-07 14:49:39,822 INFO sqlalchemy.engine.base.Engine ('jack@google.com', 'j25@yahoo.com')\n"
     ]
    },
    {
     "data": {
      "text/plain": [
       "0"
      ]
     },
     "execution_count": 53,
     "metadata": {},
     "output_type": "execute_result"
    }
   ],
   "source": [
    "session.query(Address).filter(\n",
    "        Address.email_address.in_(['jack@google.com','j25@yahoo.com'])\n",
    "        ).count()"
   ]
  },
  {
   "cell_type": "code",
   "execution_count": null,
   "metadata": {},
   "outputs": [],
   "source": [
    "'''\n",
    "아래 옵션때문에 연관된 테이블 행이 삭제되었다. \n",
    "    addresses = relationship(\"Address\", back_populates='user',\n",
    "                    cascade=\"all, delete, delete-orphan\")      # cascade옵션 추가\n",
    "'''"
   ]
  },
  {
   "cell_type": "markdown",
   "metadata": {},
   "source": [
    "---\n",
    "# 실제 데이터로 학습해보기\n",
    "### 한호스 몸무게 데이터\n",
    "---"
   ]
  },
  {
   "cell_type": "code",
   "execution_count": 29,
   "metadata": {},
   "outputs": [
    {
     "name": "stdout",
     "output_type": "stream",
     "text": [
      "2018-06-08 14:49:48,977 INFO sqlalchemy.engine.base.Engine SELECT CAST('test plain returns' AS VARCHAR(60)) AS anon_1\n",
      "2018-06-08 14:49:48,978 INFO sqlalchemy.engine.base.Engine ()\n",
      "2018-06-08 14:49:48,980 INFO sqlalchemy.engine.base.Engine SELECT CAST('test unicode returns' AS VARCHAR(60)) AS anon_1\n",
      "2018-06-08 14:49:48,981 INFO sqlalchemy.engine.base.Engine ()\n",
      "2018-06-08 14:49:48,983 INFO sqlalchemy.engine.base.Engine PRAGMA table_info(\"weights\")\n",
      "2018-06-08 14:49:48,984 INFO sqlalchemy.engine.base.Engine ()\n"
     ]
    }
   ],
   "source": [
    "import sqlalchemy\n",
    "from sqlalchemy import create_engine\n",
    "from sqlalchemy.ext.declarative import declarative_base\n",
    "from sqlalchemy import Column, Integer, String, Integer, Float, Numeric, Time, DateTime\n",
    "from sqlalchemy.orm import sessionmaker\n",
    "\n",
    "from datetime import datetime\n",
    "import os\n",
    "\n",
    "import pandas as pd\n",
    "import matplotlib.pyplot as plt\n",
    "import matplotlib.dates as mdates    # x축 날짜 깨끗하게 보이기\n",
    "%matplotlib inline\n",
    "plt.style.use('ggplot')\n",
    "\n",
    "\n",
    "# engine = create_engine('sqlite:///:memory:', echo=True)   # 인메모리\n",
    "engine = create_engine('sqlite:///C:\\\\ML_Study\\\\my_weight\\\\weight.db', echo=True)\n",
    "\n",
    "Base = declarative_base()\n",
    "\n",
    "class Weight(Base):\n",
    "    __tablename__ = 'weights'\n",
    "    id = Column(Integer, primary_key=True)\n",
    "    name = Column(String)\n",
    "    dt = Column(String)  # 날짜\n",
    "    wt = Column(Numeric) # 몸무게 \n",
    "    # timestamp = Column(DateTime)\n",
    "    timestamp = Column(DateTime, default=datetime.today) # 데이터 기록시간 체크\n",
    "    \n",
    "    def __repr__(self):\n",
    "        return \"<Weight(name='%s', Date='%s', Weight='%s', RegTime='%s'>\" % (\n",
    "                self.name, self.dt, self.wt, self.timestamp)\n",
    "\n",
    "# 테이블 생성\n",
    "Base.metadata.create_all(engine)\n",
    "\n",
    "# 세션 만들기\n",
    "Session = sessionmaker(bind=engine)\n",
    "session = Session()"
   ]
  },
  {
   "cell_type": "code",
   "execution_count": null,
   "metadata": {},
   "outputs": [],
   "source": [
    "### 과거치 한꺼번에 입력\n",
    "wt_list = [('20180515',72.0), ('20180516',70.5), ('20180517',71.3),\n",
    "           ('20180518',70.7), ('20180521',72.3), ('20180523',71.9),\n",
    "           ('20180528',71.3), ('20180530',70.7), ('20180601',70.4),\n",
    "           ('20180604',71.0), ('20180607',69.8)]\n",
    "\n",
    "for d, w in wt_list:\n",
    "    print(d, w)        \n",
    "    # 값 생성\n",
    "    hanho = Weight(name='hanho', dt=d, wt=w)    \n",
    "    # 추가 \n",
    "    session.add(hanho)\n",
    "    session.commit()"
   ]
  },
  {
   "cell_type": "code",
   "execution_count": 32,
   "metadata": {},
   "outputs": [
    {
     "name": "stdout",
     "output_type": "stream",
     "text": [
      "2018-06-08 14:51:21,382 INFO sqlalchemy.engine.base.Engine SELECT weights.id AS weights_id, weights.name AS weights_name, weights.dt AS weights_dt, weights.wt AS weights_wt, weights.timestamp AS weights_timestamp \n",
      "FROM weights\n",
      "2018-06-08 14:51:21,385 INFO sqlalchemy.engine.base.Engine ()\n"
     ]
    },
    {
     "data": {
      "text/plain": [
       "[<Weight(name='hanho', Date='20180515', Weight='72.0000000000', RegTime='2018-06-07 19:38:54.549262'>,\n",
       " <Weight(name='hanho', Date='20180516', Weight='70.5000000000', RegTime='2018-06-07 19:38:54.659269'>,\n",
       " <Weight(name='hanho', Date='20180517', Weight='71.3000000000', RegTime='2018-06-07 19:38:54.728272'>,\n",
       " <Weight(name='hanho', Date='20180518', Weight='70.7000000000', RegTime='2018-06-07 19:38:54.784276'>,\n",
       " <Weight(name='hanho', Date='20180521', Weight='72.3000000000', RegTime='2018-06-07 19:38:54.865280'>,\n",
       " <Weight(name='hanho', Date='20180523', Weight='71.9000000000', RegTime='2018-06-07 19:38:54.924284'>,\n",
       " <Weight(name='hanho', Date='20180528', Weight='71.3000000000', RegTime='2018-06-07 19:38:54.986287'>,\n",
       " <Weight(name='hanho', Date='20180530', Weight='70.7000000000', RegTime='2018-06-07 19:38:55.048291'>,\n",
       " <Weight(name='hanho', Date='20180601', Weight='70.4000000000', RegTime='2018-06-07 19:38:55.118295'>,\n",
       " <Weight(name='hanho', Date='20180604', Weight='71.0000000000', RegTime='2018-06-07 19:38:55.179298'>,\n",
       " <Weight(name='hanho', Date='20180607', Weight='69.8000000000', RegTime='2018-06-07 19:38:55.232301'>]"
      ]
     },
     "execution_count": 32,
     "metadata": {},
     "output_type": "execute_result"
    }
   ],
   "source": [
    "# 쿼리\n",
    "session.query(Weight).all()"
   ]
  },
  {
   "cell_type": "code",
   "execution_count": 61,
   "metadata": {},
   "outputs": [
    {
     "name": "stdout",
     "output_type": "stream",
     "text": [
      "2018-06-08 15:37:30,475 INFO sqlalchemy.engine.base.Engine SELECT weights.id AS weights_id, weights.name AS weights_name, weights.dt AS weights_dt, weights.wt AS weights_wt, weights.timestamp AS weights_timestamp \n",
      "FROM weights \n",
      "WHERE weights.dt = ?\n",
      "2018-06-08 15:37:30,477 INFO sqlalchemy.engine.base.Engine ('20180515',)\n"
     ]
    },
    {
     "data": {
      "text/plain": [
       "[<Weight(name='hanho', Date='20180515', Weight='72.0000000000', RegTime='2018-06-07 19:38:54.549262'>]"
      ]
     },
     "execution_count": 61,
     "metadata": {},
     "output_type": "execute_result"
    }
   ],
   "source": [
    "# 쿼리\n",
    "session.query(Weight).filter(Weight.dt=='20180515').all()"
   ]
  },
  {
   "cell_type": "code",
   "execution_count": 59,
   "metadata": {
    "scrolled": true
   },
   "outputs": [
    {
     "name": "stdout",
     "output_type": "stream",
     "text": [
      "2018-06-08 15:30:12,510 INFO sqlalchemy.engine.base.Engine SELECT weights.id AS weights_id, weights.name AS weights_name, weights.dt AS weights_dt, weights.wt AS weights_wt, weights.timestamp AS weights_timestamp \n",
      "FROM weights \n",
      "WHERE weights.wt >= ?\n",
      "2018-06-08 15:30:12,512 INFO sqlalchemy.engine.base.Engine (70.0,)\n"
     ]
    },
    {
     "data": {
      "text/plain": [
       "[<Weight(name='hanho', Date='20180515', Weight='72.0000000000', RegTime='2018-06-07 19:38:54.549262'>,\n",
       " <Weight(name='hanho', Date='20180516', Weight='70.5000000000', RegTime='2018-06-07 19:38:54.659269'>,\n",
       " <Weight(name='hanho', Date='20180517', Weight='71.3000000000', RegTime='2018-06-07 19:38:54.728272'>,\n",
       " <Weight(name='hanho', Date='20180518', Weight='70.7000000000', RegTime='2018-06-07 19:38:54.784276'>,\n",
       " <Weight(name='hanho', Date='20180521', Weight='72.3000000000', RegTime='2018-06-07 19:38:54.865280'>,\n",
       " <Weight(name='hanho', Date='20180523', Weight='71.9000000000', RegTime='2018-06-07 19:38:54.924284'>,\n",
       " <Weight(name='hanho', Date='20180528', Weight='71.3000000000', RegTime='2018-06-07 19:38:54.986287'>,\n",
       " <Weight(name='hanho', Date='20180530', Weight='70.7000000000', RegTime='2018-06-07 19:38:55.048291'>,\n",
       " <Weight(name='hanho', Date='20180601', Weight='70.4000000000', RegTime='2018-06-07 19:38:55.118295'>,\n",
       " <Weight(name='hanho', Date='20180604', Weight='71.0000000000', RegTime='2018-06-07 19:38:55.179298'>]"
      ]
     },
     "execution_count": 59,
     "metadata": {},
     "output_type": "execute_result"
    }
   ],
   "source": [
    "# 쿼리\n",
    "session.query(Weight).filter(Weight.wt >= 70.0 ).all()"
   ]
  },
  {
   "cell_type": "markdown",
   "metadata": {},
   "source": [
    "---\n",
    "### Pandas 데이터 프레임으로 읽기\n",
    "---"
   ]
  },
  {
   "cell_type": "code",
   "execution_count": 101,
   "metadata": {},
   "outputs": [
    {
     "name": "stdout",
     "output_type": "stream",
     "text": [
      "2018-06-08 16:11:07,803 INFO sqlalchemy.engine.base.Engine PRAGMA table_info(\"select * from weights\")\n",
      "2018-06-08 16:11:07,804 INFO sqlalchemy.engine.base.Engine ()\n",
      "2018-06-08 16:11:07,807 INFO sqlalchemy.engine.base.Engine select * from weights\n",
      "2018-06-08 16:11:07,810 INFO sqlalchemy.engine.base.Engine ()\n",
      "\n",
      "<class 'pandas.core.frame.DataFrame'>\n",
      "RangeIndex: 11 entries, 0 to 10\n",
      "Data columns (total 5 columns):\n",
      "id           11 non-null int64\n",
      "name         11 non-null object\n",
      "dt           11 non-null object\n",
      "wt           11 non-null float64\n",
      "timestamp    11 non-null object\n",
      "dtypes: float64(1), int64(1), object(3)\n",
      "memory usage: 520.0+ bytes\n",
      "None\n"
     ]
    },
    {
     "data": {
      "text/html": [
       "<div>\n",
       "<style scoped>\n",
       "    .dataframe tbody tr th:only-of-type {\n",
       "        vertical-align: middle;\n",
       "    }\n",
       "\n",
       "    .dataframe tbody tr th {\n",
       "        vertical-align: top;\n",
       "    }\n",
       "\n",
       "    .dataframe thead th {\n",
       "        text-align: right;\n",
       "    }\n",
       "</style>\n",
       "<table border=\"1\" class=\"dataframe\">\n",
       "  <thead>\n",
       "    <tr style=\"text-align: right;\">\n",
       "      <th></th>\n",
       "      <th>id</th>\n",
       "      <th>name</th>\n",
       "      <th>dt</th>\n",
       "      <th>wt</th>\n",
       "      <th>timestamp</th>\n",
       "    </tr>\n",
       "  </thead>\n",
       "  <tbody>\n",
       "    <tr>\n",
       "      <th>0</th>\n",
       "      <td>1</td>\n",
       "      <td>hanho</td>\n",
       "      <td>20180515</td>\n",
       "      <td>72.0</td>\n",
       "      <td>2018-06-07 19:38:54.549262</td>\n",
       "    </tr>\n",
       "    <tr>\n",
       "      <th>1</th>\n",
       "      <td>2</td>\n",
       "      <td>hanho</td>\n",
       "      <td>20180516</td>\n",
       "      <td>70.5</td>\n",
       "      <td>2018-06-07 19:38:54.659269</td>\n",
       "    </tr>\n",
       "    <tr>\n",
       "      <th>2</th>\n",
       "      <td>3</td>\n",
       "      <td>hanho</td>\n",
       "      <td>20180517</td>\n",
       "      <td>71.3</td>\n",
       "      <td>2018-06-07 19:38:54.728272</td>\n",
       "    </tr>\n",
       "    <tr>\n",
       "      <th>3</th>\n",
       "      <td>4</td>\n",
       "      <td>hanho</td>\n",
       "      <td>20180518</td>\n",
       "      <td>70.7</td>\n",
       "      <td>2018-06-07 19:38:54.784276</td>\n",
       "    </tr>\n",
       "    <tr>\n",
       "      <th>4</th>\n",
       "      <td>5</td>\n",
       "      <td>hanho</td>\n",
       "      <td>20180521</td>\n",
       "      <td>72.3</td>\n",
       "      <td>2018-06-07 19:38:54.865280</td>\n",
       "    </tr>\n",
       "    <tr>\n",
       "      <th>5</th>\n",
       "      <td>6</td>\n",
       "      <td>hanho</td>\n",
       "      <td>20180523</td>\n",
       "      <td>71.9</td>\n",
       "      <td>2018-06-07 19:38:54.924284</td>\n",
       "    </tr>\n",
       "    <tr>\n",
       "      <th>6</th>\n",
       "      <td>7</td>\n",
       "      <td>hanho</td>\n",
       "      <td>20180528</td>\n",
       "      <td>71.3</td>\n",
       "      <td>2018-06-07 19:38:54.986287</td>\n",
       "    </tr>\n",
       "    <tr>\n",
       "      <th>7</th>\n",
       "      <td>8</td>\n",
       "      <td>hanho</td>\n",
       "      <td>20180530</td>\n",
       "      <td>70.7</td>\n",
       "      <td>2018-06-07 19:38:55.048291</td>\n",
       "    </tr>\n",
       "    <tr>\n",
       "      <th>8</th>\n",
       "      <td>9</td>\n",
       "      <td>hanho</td>\n",
       "      <td>20180601</td>\n",
       "      <td>70.4</td>\n",
       "      <td>2018-06-07 19:38:55.118295</td>\n",
       "    </tr>\n",
       "    <tr>\n",
       "      <th>9</th>\n",
       "      <td>10</td>\n",
       "      <td>hanho</td>\n",
       "      <td>20180604</td>\n",
       "      <td>71.0</td>\n",
       "      <td>2018-06-07 19:38:55.179298</td>\n",
       "    </tr>\n",
       "    <tr>\n",
       "      <th>10</th>\n",
       "      <td>11</td>\n",
       "      <td>hanho</td>\n",
       "      <td>20180607</td>\n",
       "      <td>69.8</td>\n",
       "      <td>2018-06-07 19:38:55.232301</td>\n",
       "    </tr>\n",
       "  </tbody>\n",
       "</table>\n",
       "</div>"
      ],
      "text/plain": [
       "    id   name        dt    wt                   timestamp\n",
       "0    1  hanho  20180515  72.0  2018-06-07 19:38:54.549262\n",
       "1    2  hanho  20180516  70.5  2018-06-07 19:38:54.659269\n",
       "2    3  hanho  20180517  71.3  2018-06-07 19:38:54.728272\n",
       "3    4  hanho  20180518  70.7  2018-06-07 19:38:54.784276\n",
       "4    5  hanho  20180521  72.3  2018-06-07 19:38:54.865280\n",
       "5    6  hanho  20180523  71.9  2018-06-07 19:38:54.924284\n",
       "6    7  hanho  20180528  71.3  2018-06-07 19:38:54.986287\n",
       "7    8  hanho  20180530  70.7  2018-06-07 19:38:55.048291\n",
       "8    9  hanho  20180601  70.4  2018-06-07 19:38:55.118295\n",
       "9   10  hanho  20180604  71.0  2018-06-07 19:38:55.179298\n",
       "10  11  hanho  20180607  69.8  2018-06-07 19:38:55.232301"
      ]
     },
     "execution_count": 101,
     "metadata": {},
     "output_type": "execute_result"
    }
   ],
   "source": [
    "# 클래스에 명시된 테이블명 __tablesname__ : weights\n",
    "df = pd.read_sql(\"select * from weights\", engine)    \n",
    "print()\n",
    "print(df.info())      # 날짜 형식 문자형임에 유의(object)\n",
    "df"
   ]
  },
  {
   "cell_type": "code",
   "execution_count": 104,
   "metadata": {},
   "outputs": [
    {
     "data": {
      "image/png": "[encoded data removed]",
      "text/plain": [
       "<matplotlib.figure.Figure at 0xc2104e0>"
      ]
     },
     "metadata": {},
     "output_type": "display_data"
    }
   ],
   "source": [
    "### 차트 ###\n",
    "ser = pd.Series(df['wt'])\n",
    "ser.index = pd.to_datetime(df['dt'])\n",
    "\n",
    "fig, ax = plt.subplots(figsize=(10,4))\n",
    "ax.plot(ser.index, ser)\n",
    "\n",
    "# X축 이쁘게\n",
    "ax.set_xticks(ser.index)\n",
    "ax.xaxis.set_major_formatter(mdates.DateFormatter(\"%Y-%m-%d\"))\n",
    "ax.xaxis.set_minor_formatter(mdates.DateFormatter(\"%Y-%m-%d\"))\n",
    "plt.xticks(rotation=90) \n",
    "plt.xlabel('')\n",
    "\n",
    "plt.show()"
   ]
  },
  {
   "cell_type": "code",
   "execution_count": null,
   "metadata": {},
   "outputs": [],
   "source": []
  }
 ],
 "metadata": {
  "kernelspec": {
   "display_name": "Python 3",
   "language": "python",
   "name": "python3"
  },
  "language_info": {
   "codemirror_mode": {
    "name": "ipython",
    "version": 3
   },
   "file_extension": ".py",
   "mimetype": "text/x-python",
   "name": "python",
   "nbconvert_exporter": "python",
   "pygments_lexer": "ipython3",
   "version": "3.6.4"
  }
 },
 "nbformat": 4,
 "nbformat_minor": 2
}
